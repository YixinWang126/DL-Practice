{
 "cells": [
  {
   "cell_type": "code",
   "execution_count": 4,
   "id": "22abc275",
   "metadata": {},
   "outputs": [
    {
     "name": "stdout",
     "output_type": "stream",
     "text": [
      "torch.Size([1, 3, 16, 16])\n"
     ]
    }
   ],
   "source": [
    "import torch\n",
    "import torch.nn as nn\n",
    "import torch.nn.functional as F\n",
    "\n",
    "class AveragePoolingAsConv(nn.Module):\n",
    "    def __init__(self, kernel_size, stride=None, padding=0):\n",
    "        super(AveragePoolingAsConv, self).__init__()\n",
    "        if stride is None:\n",
    "            stride = kernel_size\n",
    "        self.kernel_size = kernel_size\n",
    "        self.stride = stride\n",
    "        self.padding = padding\n",
    "        self.avg_pool_conv = None\n",
    "        \n",
    "    def forward(self, x):\n",
    "        c_i = x.size(1)\n",
    "        kernel_size = self.kernel_size\n",
    "        stride = self.stride\n",
    "        padding = self.padding\n",
    "\n",
    "        if self.avg_pool_conv is None:\n",
    "            avg_pool_kernel = torch.ones(c_i, 1, kernel_size, kernel_size, device=x.device) / (kernel_size * kernel_size)\n",
    "            self.avg_pool_conv = nn.Conv2d(c_i, c_i, kernel_size, stride=stride, padding=padding, groups=c_i, bias=False)\n",
    "            self.avg_pool_conv.weight.data = avg_pool_kernel\n",
    "\n",
    "        return self.avg_pool_conv(x)\n",
    "\n",
    "\n",
    "input_tensor = torch.randn(1, 3, 32, 32)  \n",
    "kernel_size = 2\n",
    "stride = 2\n",
    "padding = 0\n",
    "\n",
    "avg_pool_as_conv = AveragePoolingAsConv(kernel_size, stride, padding)\n",
    "output_tensor = avg_pool_as_conv(input_tensor)\n",
    "print(output_tensor.size())  "
   ]
  }
 ],
 "metadata": {
  "kernelspec": {
   "display_name": "Python 3 (ipykernel)",
   "language": "python",
   "name": "python3"
  },
  "language_info": {
   "codemirror_mode": {
    "name": "ipython",
    "version": 3
   },
   "file_extension": ".py",
   "mimetype": "text/x-python",
   "name": "python",
   "nbconvert_exporter": "python",
   "pygments_lexer": "ipython3",
   "version": "3.8.19"
  }
 },
 "nbformat": 4,
 "nbformat_minor": 5
}
