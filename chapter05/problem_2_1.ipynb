{
 "cells": [
  {
   "cell_type": "code",
   "execution_count": 4,
   "id": "61d857d7",
   "metadata": {},
   "outputs": [
    {
     "name": "stdout",
     "output_type": "stream",
     "text": [
      "('0.net.0.weight', torch.Size([64, 20])) ('0.net.0.bias', torch.Size([64])) ('0.net.2.weight', torch.Size([32, 64])) ('0.net.2.bias', torch.Size([32])) ('0.linear.weight', torch.Size([16, 32])) ('0.linear.bias', torch.Size([16])) ('1.weight', torch.Size([20, 16])) ('1.bias', torch.Size([20]))\n"
     ]
    }
   ],
   "source": [
    "import torch\n",
    "from torch import nn\n",
    "\n",
    "class NestMLP(nn.Module):\n",
    "    def __init__(self):\n",
    "        super().__init__()\n",
    "        self.net = nn.Sequential(nn.Linear(20, 64), nn.ReLU(),\n",
    "                                 nn.Linear(64, 32), nn.ReLU())\n",
    "        self.linear = nn.Linear(32, 16)\n",
    "\n",
    "    def forward(self, X):\n",
    "        return self.linear(self.net(X))\n",
    "\n",
    "X = torch.rand(size=(5,20))\n",
    "chimera = nn.Sequential(NestMLP(), nn.Linear(16, 20))\n",
    "#chimera(X)\n",
    "print(*[(name, param.shape) for name, param in chimera.named_parameters()])\n"
   ]
  }
 ],
 "metadata": {
  "kernelspec": {
   "display_name": "Python 3 (ipykernel)",
   "language": "python",
   "name": "python3"
  },
  "language_info": {
   "codemirror_mode": {
    "name": "ipython",
    "version": 3
   },
   "file_extension": ".py",
   "mimetype": "text/x-python",
   "name": "python",
   "nbconvert_exporter": "python",
   "pygments_lexer": "ipython3",
   "version": "3.8.19"
  }
 },
 "nbformat": 4,
 "nbformat_minor": 5
}
