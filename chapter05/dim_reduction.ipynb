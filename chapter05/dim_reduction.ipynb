{
 "cells": [
  {
   "cell_type": "code",
   "execution_count": 13,
   "id": "89088957",
   "metadata": {},
   "outputs": [
    {
     "name": "stdout",
     "output_type": "stream",
     "text": [
      "tensor([[-1.2104,  4.7954, -0.5102],\n",
      "        [-0.4499, -0.8049,  2.7554],\n",
      "        [-4.9088, 11.2100,  4.1863],\n",
      "        [-0.3886,  0.7023, -0.6577],\n",
      "        [-1.9788,  0.9281,  1.0598]], grad_fn=<MmBackward0>)\n"
     ]
    }
   ],
   "source": [
    "import torch\n",
    "import torch.nn as nn\n",
    "\n",
    "class TensorDimReductionLayer(nn.Module):\n",
    "    def __init__(self, input_dim, output_dim):\n",
    "        super().__init__()\n",
    "        self.input_dim = input_dim\n",
    "        self.output_dim = output_dim\n",
    "        self.weights = nn.Parameter(torch.randn(input_dim, input_dim, output_dim))\n",
    "\n",
    "    def forward(self, x):\n",
    "        batch_size = x.size(0)\n",
    "        outer_product = torch.bmm(x.unsqueeze(2), x.unsqueeze(1))\n",
    "        outer_product = outer_product.reshape(batch_size, -1)\n",
    "        W = self.weights.reshape(-1, self.output_dim)\n",
    "        y = torch.matmul(outer_product, W)\n",
    "        return y\n",
    "\n",
    "# Example \n",
    "input_dim = 4\n",
    "output_dim = 3\n",
    "layer = TensorDimReductionLayer(input_dim, output_dim)\n",
    "x = torch.randn(5, input_dim)\n",
    "y = layer(x)\n",
    "print(y)"
   ]
  }
 ],
 "metadata": {
  "kernelspec": {
   "display_name": "Python 3 (ipykernel)",
   "language": "python",
   "name": "python3"
  },
  "language_info": {
   "codemirror_mode": {
    "name": "ipython",
    "version": 3
   },
   "file_extension": ".py",
   "mimetype": "text/x-python",
   "name": "python",
   "nbconvert_exporter": "python",
   "pygments_lexer": "ipython3",
   "version": "3.8.19"
  }
 },
 "nbformat": 4,
 "nbformat_minor": 5
}
