{
 "cells": [
  {
   "cell_type": "code",
   "execution_count": 21,
   "id": "f6a9299e",
   "metadata": {},
   "outputs": [
    {
     "name": "stdout",
     "output_type": "stream",
     "text": [
      "tensor([[0.8926, 0.4323, 0.3709,  ..., 0.3135, 0.4654, 0.5826],\n",
      "        [0.3017, 0.7991, 0.9659,  ..., 0.0508, 0.6491, 0.5864],\n",
      "        [0.9333, 0.7012, 0.1681,  ..., 0.6288, 0.0213, 0.9182],\n",
      "        ...,\n",
      "        [0.0076, 0.5796, 0.3885,  ..., 0.6284, 0.9291, 0.6181],\n",
      "        [0.1795, 0.3321, 0.8769,  ..., 0.1914, 0.8386, 0.8633],\n",
      "        [0.0086, 0.6218, 0.0267,  ..., 0.0478, 0.7780, 0.5793]])\n"
     ]
    },
    {
     "data": {
      "text/plain": [
       "tensor([[0.8926, 0.4323, 0.3709,  ..., 0.3135, 0.4654, 0.5826],\n",
       "        [0.3017, 0.7991, 0.9659,  ..., 0.0508, 0.6491, 0.5864],\n",
       "        [0.9333, 0.7012, 0.1681,  ..., 0.6288, 0.0213, 0.9182],\n",
       "        ...,\n",
       "        [0.0076, 0.5796, 0.3885,  ..., 0.6284, 0.9291, 0.6181],\n",
       "        [0.1795, 0.3321, 0.8769,  ..., 0.1914, 0.8386, 0.8633],\n",
       "        [0.0086, 0.6218, 0.0267,  ..., 0.0478, 0.7780, 0.5793]])"
      ]
     },
     "execution_count": 21,
     "metadata": {},
     "output_type": "execute_result"
    }
   ],
   "source": [
    "import torch\n",
    "from torch import nn\n",
    "from torch.nn import functional as F\n",
    "\n",
    "class MLP(nn.Module):\n",
    "    def __init__(self):\n",
    "        super().__init__()\n",
    "        self.hidden = nn.Linear(20, 256)\n",
    "        self.output = nn.Linear(256, 10)\n",
    "\n",
    "    def forward(self, x):\n",
    "        return self.output(F.relu(self.hidden(x)))\n",
    "\n",
    "net = MLP()\n",
    "net.hidden.weight.data = torch.rand(256,20)\n",
    "A = net.hidden.weight.data\n",
    "clone = MLP()\n",
    "torch.save(net.hidden.state_dict(), 'mlp.params')\n",
    "clone.hidden.load_state_dict(torch.load('mlp.params'))\n",
    "print(A)\n",
    "clone.hidden.weight.data"
   ]
  }
 ],
 "metadata": {
  "kernelspec": {
   "display_name": "Python 3 (ipykernel)",
   "language": "python",
   "name": "python3"
  },
  "language_info": {
   "codemirror_mode": {
    "name": "ipython",
    "version": 3
   },
   "file_extension": ".py",
   "mimetype": "text/x-python",
   "name": "python",
   "nbconvert_exporter": "python",
   "pygments_lexer": "ipython3",
   "version": "3.8.19"
  }
 },
 "nbformat": 4,
 "nbformat_minor": 5
}
